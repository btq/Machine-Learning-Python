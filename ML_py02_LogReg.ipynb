{
 "cells": [
  {
   "cell_type": "markdown",
   "metadata": {},
   "source": [
    "#Machine Learning in Python\n",
    "##Logistic Regression\n",
    "\n",
    "I will use numpy and matplotlib for this exercise, so import them:"
   ]
  },
  {
   "cell_type": "code",
   "execution_count": 1,
   "metadata": {
    "collapsed": true
   },
   "outputs": [],
   "source": [
    "%matplotlib inline\n",
    "import numpy as np\n",
    "import matplotlib.pyplot as plt"
   ]
  },
  {
   "cell_type": "markdown",
   "metadata": {},
   "source": [
    "###define our cost function\n",
    "I used the squared error for the cost function. Defined as:\n",
    "\n",
    "$$  Cost(h_\\theta(x),y) = \\left\\{\n",
    "  \\begin{array}{l l}\n",
    "    -log(h_\\theta(x)) & \\quad \\text{if } y=1\\\\\n",
    "    -log(1-h_\\theta(x)) & \\quad \\text{if } y=0\n",
    "  \\end{array} \\right. $$\n",
    "\n",
    "Since y is always 0 or 1,  we can rewrite the two equations as one:\n",
    "  \n",
    "$$ Cost(h_\\theta (x),y) = -y(log(h_\\theta(x)) - (1-y)(log(1-h_\\theta(x))) $$\n",
    "\n",
    "\n",
    "\n",
    "$$J(\\theta) = -\\frac{1}{m}\\Big[\\sum_{i=1}^{m} y^{(i)}\\log h_\\theta(x^{(i)})+(1-y^{(i)})\\log (1-h_\\theta(x^{(i)}))\\Big]$$\n"
   ]
  },
  {
   "cell_type": "code",
   "execution_count": null,
   "metadata": {
    "collapsed": false
   },
   "outputs": [],
   "source": []
  }
 ],
 "metadata": {
  "kernelspec": {
   "display_name": "Python 2",
   "language": "python",
   "name": "python2"
  },
  "language_info": {
   "codemirror_mode": {
    "name": "ipython",
    "version": 2
   },
   "file_extension": ".py",
   "mimetype": "text/x-python",
   "name": "python",
   "nbconvert_exporter": "python",
   "pygments_lexer": "ipython2",
   "version": "2.7.7"
  }
 },
 "nbformat": 4,
 "nbformat_minor": 0
}
